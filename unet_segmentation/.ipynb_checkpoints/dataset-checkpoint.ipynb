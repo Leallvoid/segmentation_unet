{
 "cells": [
  {
   "cell_type": "code",
   "execution_count": 3,
   "id": "99d81f85",
   "metadata": {
    "ExecuteTime": {
     "end_time": "2022-06-28T10:58:47.918083Z",
     "start_time": "2022-06-28T10:58:47.688433Z"
    }
   },
   "outputs": [],
   "source": [
    "import os\n",
    "import cv2\n",
    "import torchvision\n",
    "import numpy\n",
    "from torch.utils.data import Dataset\n",
    "from torchvision.utils import save_image\n",
    "\n",
    "\n",
    "class Datasets(Dataset):\n",
    "\n",
    "    def __init__(self, path):\n",
    "        self.path = path\n",
    "        # 语义分割需要的图片的图片和标签\n",
    "        self.name1 = os.listdir(os.path.join(path, \"images\"))\n",
    "        self.name2 = os.listdir(os.path.join(path, \"1st_manual\"))\n",
    "        self.trans = torchvision.transforms.Compose([torchvision.transforms.ToTensor()])\n",
    "\n",
    "    def __len__(self):\n",
    "        return len(self.name1)\n",
    "\n",
    "    # 简单的正方形转换，把图片和标签转为正方形\n",
    "    # 图片会置于中央，两边会填充为黑色，不会失真\n",
    "    def __trans__(self, img, size):\n",
    "        # 图片的宽高\n",
    "        h, w = img.shape[0:2]\n",
    "        # 需要的尺寸\n",
    "        _w = _h = size\n",
    "        # 不改变图像的宽高比例\n",
    "        scale = min(_h / h, _w / w)\n",
    "        h = int(h * scale)\n",
    "        w = int(w * scale)\n",
    "        # 缩放图像\n",
    "        img = cv2.resize(img, (w, h), interpolation=cv2.INTER_CUBIC)\n",
    "        # 上下左右分别要扩展的像素数\n",
    "        top = (_h - h) // 2\n",
    "        left = (_w - w) // 2\n",
    "        bottom = _h - h - top\n",
    "        right = _w - w - left\n",
    "        # 生成一个新的填充过的图像，这里用纯黑色进行填充(0,0,0)\n",
    "        new_img = cv2.copyMakeBorder(img, top, bottom, left, right, cv2.BORDER_CONSTANT, value=(0, 0, 0))\n",
    "        return new_img\n",
    "\n",
    "    def __getitem__(self, index):\n",
    "        # 拿到的图片和标签\n",
    "        name1 = self.name1[index]\n",
    "        name2 = self.name2[index]\n",
    "        # 图片和标签的路径\n",
    "        img_path = [os.path.join(self.path, i) for i in (\"images\", \"1st_manual\")]\n",
    "        # 读取原始图片和标签，并转RGB\n",
    "        img_o = cv2.imread(os.path.join(img_path[0], name1))\n",
    "        _, img_l = cv2.VideoCapture(os.path.join(img_path[1], name2)).read()\n",
    "        img_l = cv2.cvtColor(img_l, cv2.COLOR_BGR2RGB)\n",
    "        img_o = cv2.cvtColor(img_o, cv2.COLOR_BGR2RGB)\n",
    "        # 转成网络需要的正方形\n",
    "        img_o = self.__trans__(img_o, 256)\n",
    "        img_l = self.__trans__(img_l, 256)\n",
    "        return self.trans(img_o), self.trans(img_l)\n",
    "\n",
    "if __name__ == '__main__':\n",
    "    i = 1\n",
    "    dataset = Datasets(r\"C:\\Users\\86177\\Desktop\\Pytorch-UNet-Retina-master\\DRIVE\\training\")\n",
    "    for a, b in dataset:\n",
    "\n",
    "\n",
    "        save_image(a, f\"C:/Users/86177/Desktop/Pytorch-UNet-Retina-master/DRIVE/img/{i}.jpg\", nrow=1)\n",
    "        save_image(b, f\"C:/Users/86177/Desktop/Pytorch-UNet-Retina-master/DRIVE/img/{i}.png\", nrow=1)\n",
    "        i += 1\n",
    "        if i > 5:\n",
    "           break"
   ]
  },
  {
   "cell_type": "code",
   "execution_count": 2,
   "id": "dfde8a66",
   "metadata": {
    "ExecuteTime": {
     "end_time": "2022-06-26T11:10:52.888295Z",
     "start_time": "2022-06-26T11:09:43.693290Z"
    }
   },
   "outputs": [
    {
     "data": {
      "text/plain": [
       "-1"
      ]
     },
     "execution_count": 2,
     "metadata": {},
     "output_type": "execute_result"
    }
   ],
   "source": [
    "'''img = cv2.imread(r\".\\DRIVE\\img\\1.jpg\", 0)\n",
    "img1 = np.power(img/float(np.max(img)), 1.5)\n",
    "img2 = np.power(img/float(np.max(img)), 1.6)\n",
    "img3 = np.power(img/float(np.max(img)), 1.7)\n",
    "cv2.imshow('src',img)\n",
    "cv2.imshow('gamma=1.5',img1)\n",
    "cv2.imshow('gamma=1.6',img2)\n",
    "cv2.imshow('gamma=1.7',img1)\n",
    "cv2.waitKey(0)'''"
   ]
  },
  {
   "cell_type": "code",
   "execution_count": 1,
   "id": "79af0e03",
   "metadata": {
    "ExecuteTime": {
     "end_time": "2022-06-26T11:09:01.902971Z",
     "start_time": "2022-06-26T11:09:01.799652Z"
    }
   },
   "outputs": [],
   "source": [
    "import numpy as np\n",
    "import cv2"
   ]
  },
  {
   "cell_type": "code",
   "execution_count": null,
   "id": "069a1338",
   "metadata": {},
   "outputs": [],
   "source": []
  }
 ],
 "metadata": {
  "kernelspec": {
   "display_name": "Python 3 (ipykernel)",
   "language": "python",
   "name": "python3"
  },
  "language_info": {
   "codemirror_mode": {
    "name": "ipython",
    "version": 3
   },
   "file_extension": ".py",
   "mimetype": "text/x-python",
   "name": "python",
   "nbconvert_exporter": "python",
   "pygments_lexer": "ipython3",
   "version": "3.9.5"
  }
 },
 "nbformat": 4,
 "nbformat_minor": 5
}
