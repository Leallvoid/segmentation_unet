{
 "cells": [
  {
   "cell_type": "code",
   "execution_count": 1,
   "id": "fa66dd62",
   "metadata": {
    "ExecuteTime": {
     "end_time": "2022-07-11T14:59:45.579033Z",
     "start_time": "2022-07-11T14:59:44.453918Z"
    }
   },
   "outputs": [],
   "source": [
    "import os\n",
    "import unet\n",
    "import torch\n",
    "import dataset\n",
    "import torch.nn as nn\n",
    "import numpy as np\n",
    "import matplotlib.pyplot as plt\n",
    "import pylab as pl\n",
    "from torch.utils.data import DataLoader\n",
    "from torchvision.utils import save_image"
   ]
  },
  {
   "cell_type": "code",
   "execution_count": 2,
   "id": "5a2265e3",
   "metadata": {
    "ExecuteTime": {
     "end_time": "2022-07-11T14:59:45.594990Z",
     "start_time": "2022-07-11T14:59:45.580029Z"
    }
   },
   "outputs": [],
   "source": [
    "# 清空显存\n",
    "\n",
    "torch.cuda.empty_cache()"
   ]
  },
  {
   "cell_type": "code",
   "execution_count": 3,
   "id": "a911ad92",
   "metadata": {
    "ExecuteTime": {
     "end_time": "2022-07-11T14:59:45.940194Z",
     "start_time": "2022-07-11T14:59:45.595985Z"
    }
   },
   "outputs": [],
   "source": [
    "# 定义预测所需要的模型类型\n",
    "\n",
    "model = unet.UNet()"
   ]
  },
  {
   "cell_type": "code",
   "execution_count": 4,
   "id": "bc2c6f2d",
   "metadata": {
    "ExecuteTime": {
     "end_time": "2022-07-11T14:59:45.956148Z",
     "start_time": "2022-07-11T14:59:45.941188Z"
    }
   },
   "outputs": [
    {
     "data": {
      "text/plain": [
       "DOConv2d(64, 3, kernel_size=(3, 3), stride=(1, 1), padding=(1, 1))"
      ]
     },
     "execution_count": 4,
     "metadata": {},
     "output_type": "execute_result"
    }
   ],
   "source": [
    "# 训练模型转化为eval模式\n",
    "\n",
    "model.C1.eval()\n",
    "model.C2.eval()\n",
    "model.C3.eval()\n",
    "model.C4.eval()\n",
    "model.C5.eval()\n",
    "model.C6.eval()\n",
    "model.C7.eval()\n",
    "model.C8.eval()\n",
    "model.D1.eval()\n",
    "model.D2.eval()\n",
    "model.D3.eval()\n",
    "model.D4.eval()\n",
    "model.aspp.eval()\n",
    "model.U1.eval()\n",
    "model.U2.eval()\n",
    "model.U3.eval()\n",
    "model.U4.eval()\n",
    "model.pred.eval()"
   ]
  },
  {
   "cell_type": "code",
   "execution_count": 5,
   "id": "5cf3c5ba",
   "metadata": {
    "ExecuteTime": {
     "end_time": "2022-07-11T14:59:46.399361Z",
     "start_time": "2022-07-11T14:59:46.387393Z"
    }
   },
   "outputs": [],
   "source": [
    "loss_list = []\n",
    "iou_list = []\n",
    "losslist = []\n",
    "ioulist = []"
   ]
  },
  {
   "cell_type": "code",
   "execution_count": 6,
   "id": "b04d089a",
   "metadata": {
    "ExecuteTime": {
     "end_time": "2022-07-11T14:59:46.890539Z",
     "start_time": "2022-07-11T14:59:46.881563Z"
    }
   },
   "outputs": [],
   "source": [
    "# 预测函数\n",
    "\n",
    "def predict(path, model_weight, model_copy, predict_path):\n",
    "    cnt=1\n",
    "    # 将训练好的模型权重载入模型中\n",
    "    model.load_state_dict(torch.load(model_weight))\n",
    "    device = torch.device(\"cuda\" if torch.cuda.is_available() else \"cpu\")\n",
    "    #model.eval()并不起作用，因为\n",
    "    #model.eval()\n",
    "    model.to(device)\n",
    "    # ！！！这里使用的是BCELoss，可以尝试其他的损失函数\n",
    "    loss_func = nn.BCELoss()\n",
    "    loader = DataLoader(dataset.Datasets(path), batch_size=1, shuffle=True, num_workers=1)\n",
    "    os.makedirs(predict_path, exist_ok=True)\n",
    "    # 预测函数不进行梯度计算\n",
    "    with torch.no_grad():\n",
    "        for inputs, labels in loader:\n",
    "                # 图片和分割标签\n",
    "            inputs, labels = inputs.to(device), labels.to(device)\n",
    "                # 输出生成的图像\n",
    "            out = model(inputs)\n",
    "            loss = loss_func(out, labels)\n",
    "            \n",
    "                # 输入的图像，取第一张\n",
    "            x = inputs[0]\n",
    "                # 生成的图像，取第一张\n",
    "            x_ = out[0]\n",
    "                # 标签的图像，取第一张\n",
    "            y = labels[0]\n",
    "                # 三张图，从第0轴拼接起来，再保存\n",
    "            img = torch.stack([x, x_, y], 0)\n",
    "            # 求IoU的值，衡量测试效果的\n",
    "            intersection = (x_ * y).sum()\n",
    "            union = x_.sum() + y.sum() - intersection\n",
    "            IOU = intersection / union\n",
    "            save_image(img.cpu(), os.path.join(predict_path, f\"{cnt}.png\"))\n",
    "            loss_list.append(loss)\n",
    "            iou_list.append(IOU)\n",
    "            print(f\"\\n{cnt}, Loss: {loss}, iou:{IOU}\")\n",
    "            cnt = cnt + 1            "
   ]
  },
  {
   "cell_type": "code",
   "execution_count": 7,
   "id": "28de8f09",
   "metadata": {
    "ExecuteTime": {
     "end_time": "2022-07-11T14:59:54.404760Z",
     "start_time": "2022-07-11T14:59:47.949019Z"
    }
   },
   "outputs": [
    {
     "name": "stdout",
     "output_type": "stream",
     "text": [
      "\n",
      "1, Loss: 0.14132171869277954, iou:0.6265046000480652\n",
      "\n",
      "2, Loss: 0.283531129360199, iou:0.5604041814804077\n",
      "\n",
      "3, Loss: 0.17166511714458466, iou:0.5841136574745178\n",
      "\n",
      "4, Loss: 0.15573063492774963, iou:0.5876089334487915\n",
      "\n",
      "5, Loss: 0.15088769793510437, iou:0.5889886021614075\n",
      "\n",
      "6, Loss: 0.23494432866573334, iou:0.5309154987335205\n",
      "\n",
      "7, Loss: 0.3047451972961426, iou:0.47756698727607727\n",
      "\n",
      "8, Loss: 0.1761743724346161, iou:0.6007038950920105\n",
      "\n",
      "9, Loss: 0.2274852991104126, iou:0.6027636528015137\n",
      "\n",
      "10, Loss: 0.23812779784202576, iou:0.5815276503562927\n",
      "\n",
      "11, Loss: 0.19831189513206482, iou:0.5741252899169922\n",
      "\n",
      "12, Loss: 0.20490102469921112, iou:0.5534743666648865\n",
      "\n",
      "13, Loss: 0.2308293879032135, iou:0.579908549785614\n",
      "\n",
      "14, Loss: 0.2228478193283081, iou:0.5781925320625305\n",
      "\n",
      "15, Loss: 0.24251872301101685, iou:0.5308650135993958\n",
      "\n",
      "16, Loss: 0.1545131802558899, iou:0.5696152448654175\n",
      "\n",
      "17, Loss: 0.1292494684457779, iou:0.5844230055809021\n",
      "\n",
      "18, Loss: 0.28670501708984375, iou:0.5424519777297974\n",
      "\n",
      "19, Loss: 0.18067733943462372, iou:0.6387420296669006\n",
      "\n",
      "20, Loss: 0.18930773437023163, iou:0.5809773206710815\n"
     ]
    }
   ],
   "source": [
    "predict(r\".\\DRIVE\\test\", r'./model.plt', r'./model_{}_{}.plt', predict_path=r'./predict_img')"
   ]
  },
  {
   "cell_type": "code",
   "execution_count": 8,
   "id": "139cce66",
   "metadata": {
    "ExecuteTime": {
     "end_time": "2022-07-11T14:59:57.579923Z",
     "start_time": "2022-07-11T14:59:57.568952Z"
    }
   },
   "outputs": [],
   "source": [
    "for i in loss_list:\n",
    "    loss = i.cpu().detach().numpy()\n",
    "    losslist.append(loss)\n",
    "    \n",
    "for j in iou_list:\n",
    "    iou = j.cpu().detach().numpy()\n",
    "    ioulist.append(iou)"
   ]
  },
  {
   "cell_type": "code",
   "execution_count": 9,
   "id": "c22766b7",
   "metadata": {
    "ExecuteTime": {
     "end_time": "2022-07-11T14:59:58.164142Z",
     "start_time": "2022-07-11T14:59:58.143199Z"
    }
   },
   "outputs": [
    {
     "data": {
      "text/plain": [
       "[tensor(0.1413, device='cuda:0'),\n",
       " tensor(0.2835, device='cuda:0'),\n",
       " tensor(0.1717, device='cuda:0'),\n",
       " tensor(0.1557, device='cuda:0'),\n",
       " tensor(0.1509, device='cuda:0'),\n",
       " tensor(0.2349, device='cuda:0'),\n",
       " tensor(0.3047, device='cuda:0'),\n",
       " tensor(0.1762, device='cuda:0'),\n",
       " tensor(0.2275, device='cuda:0'),\n",
       " tensor(0.2381, device='cuda:0'),\n",
       " tensor(0.1983, device='cuda:0'),\n",
       " tensor(0.2049, device='cuda:0'),\n",
       " tensor(0.2308, device='cuda:0'),\n",
       " tensor(0.2228, device='cuda:0'),\n",
       " tensor(0.2425, device='cuda:0'),\n",
       " tensor(0.1545, device='cuda:0'),\n",
       " tensor(0.1292, device='cuda:0'),\n",
       " tensor(0.2867, device='cuda:0'),\n",
       " tensor(0.1807, device='cuda:0'),\n",
       " tensor(0.1893, device='cuda:0')]"
      ]
     },
     "execution_count": 9,
     "metadata": {},
     "output_type": "execute_result"
    }
   ],
   "source": [
    "loss_list"
   ]
  },
  {
   "cell_type": "code",
   "execution_count": 10,
   "id": "ce57b3fb",
   "metadata": {
    "ExecuteTime": {
     "end_time": "2022-07-11T14:59:58.638369Z",
     "start_time": "2022-07-11T14:59:58.631388Z"
    }
   },
   "outputs": [],
   "source": [
    "epoch=np.linspace(1, 20, 20)"
   ]
  },
  {
   "cell_type": "code",
   "execution_count": 11,
   "id": "820c553c",
   "metadata": {
    "ExecuteTime": {
     "end_time": "2022-07-11T14:59:59.271685Z",
     "start_time": "2022-07-11T14:59:59.143029Z"
    }
   },
   "outputs": [
    {
     "data": {
      "text/plain": [
       "[<matplotlib.lines.Line2D at 0x1a083fd4280>]"
      ]
     },
     "execution_count": 11,
     "metadata": {},
     "output_type": "execute_result"
    },
    {
     "data": {
      "image/png": "[encoded data removed]",
      "text/plain": [
       "<Figure size 432x288 with 1 Axes>"
      ]
     },
     "metadata": {
      "needs_background": "light"
     },
     "output_type": "display_data"
    }
   ],
   "source": [
    "plt.title('Loss')\n",
    "plt.xlabel('num')\n",
    "plt.ylabel('pred loss')\n",
    "plt.plot(epoch, losslist, 'b.-', label='1')"
   ]
  },
  {
   "cell_type": "code",
   "execution_count": 12,
   "id": "c25cac7e",
   "metadata": {
    "ExecuteTime": {
     "end_time": "2022-07-11T15:00:01.106923Z",
     "start_time": "2022-07-11T15:00:00.909451Z"
    }
   },
   "outputs": [
    {
     "data": {
      "text/plain": [
       "[<matplotlib.lines.Line2D at 0x1a086826250>]"
      ]
     },
     "execution_count": 12,
     "metadata": {},
     "output_type": "execute_result"
    },
    {
     "data": {
      "image/png": "[encoded data removed]",
      "text/plain": [
       "<Figure size 432x288 with 1 Axes>"
      ]
     },
     "metadata": {
      "needs_background": "light"
     },
     "output_type": "display_data"
    }
   ],
   "source": [
    "plt.title('IoU')\n",
    "plt.xlabel('num')\n",
    "plt.ylabel('pred iou')\n",
    "plt.plot(epoch, ioulist, 'c.-', label='1')"
   ]
  },
  {
   "cell_type": "code",
   "execution_count": null,
   "id": "f035444d",
   "metadata": {},
   "outputs": [],
   "source": []
  }
 ],
 "metadata": {
  "kernelspec": {
   "display_name": "Python 3 (ipykernel)",
   "language": "python",
   "name": "python3"
  },
  "language_info": {
   "codemirror_mode": {
    "name": "ipython",
    "version": 3
   },
   "file_extension": ".py",
   "mimetype": "text/x-python",
   "name": "python",
   "nbconvert_exporter": "python",
   "pygments_lexer": "ipython3",
   "version": "3.9.5"
  }
 },
 "nbformat": 4,
 "nbformat_minor": 5
}
