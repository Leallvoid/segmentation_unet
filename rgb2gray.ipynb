{
 "cells": [
  {
   "cell_type": "code",
   "execution_count": 1,
   "id": "17ef9846",
   "metadata": {
    "ExecuteTime": {
     "end_time": "2022-08-17T01:36:23.881791Z",
     "start_time": "2022-08-17T01:36:22.928454Z"
    }
   },
   "outputs": [],
   "source": [
    "import cv2\n",
    "import numpy as np"
   ]
  },
  {
   "cell_type": "code",
   "execution_count": 5,
   "id": "a9e2c3e4",
   "metadata": {
    "ExecuteTime": {
     "end_time": "2022-08-17T01:38:52.476816Z",
     "start_time": "2022-08-17T01:38:50.924249Z"
    }
   },
   "outputs": [],
   "source": [
    "for i in range(1, 321):\n",
    "    img = cv2.imread(f'./img_cvt_gamma/{i}.jpg')\n",
    "    img = np.array(img ,dtype='double')\n",
    "\n",
    "    img_gray = img[:,:,2]*0.299+img[:,:,1]*0.587+img[:,:,0]*0.114\n",
    "    img_gray = np.array(img_gray,dtype='uint8')\n",
    "\n",
    "    cv2.imwrite(f'./rgb2gray/{i}.jpg',img_gray)"
   ]
  },
  {
   "cell_type": "code",
   "execution_count": null,
   "id": "4a7c06a2",
   "metadata": {},
   "outputs": [],
   "source": []
  }
 ],
 "metadata": {
  "kernelspec": {
   "display_name": "Python 3 (ipykernel)",
   "language": "python",
   "name": "python3"
  },
  "language_info": {
   "codemirror_mode": {
    "name": "ipython",
    "version": 3
   },
   "file_extension": ".py",
   "mimetype": "text/x-python",
   "name": "python",
   "nbconvert_exporter": "python",
   "pygments_lexer": "ipython3",
   "version": "3.9.5"
  }
 },
 "nbformat": 4,
 "nbformat_minor": 5
}
